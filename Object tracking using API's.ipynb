{
 "cells": [
  {
   "cell_type": "code",
   "execution_count": 1,
   "metadata": {},
   "outputs": [],
   "source": [
    "import cv2"
   ]
  },
  {
   "cell_type": "code",
   "execution_count": 2,
   "metadata": {},
   "outputs": [],
   "source": [
    "def ask_for_tracker():\n",
    "    print('What tracker API would yoiu want to use?')\n",
    "    print('Enter 0 for Boosting: ')\n",
    "    print('Enter 1 for MIL: ')\n",
    "    print('Enter 2 for KCF: ')\n",
    "    print('Enter 3 for TLD: ')\n",
    "    print('Enter 4 for MEDIANFLOW: ')\n",
    "    choice = input('Please select yoour tracker: ')\n",
    "    \n",
    "    if choice == '0':\n",
    "        tracker = cv2.TrackerBoosting_create()\n",
    "    if choice == '1':\n",
    "        tracker = cv2.TrackerMIL_create()\n",
    "    if choice == '2':\n",
    "        tracker = cv2.TrackerKCF_create()\n",
    "    if choice == '3':\n",
    "        tracker = cv2.TrackerTLD_create()\n",
    "    if choice == '4':\n",
    "        tracker = cv2.TrackerMedianFlow_create()\n",
    "        \n",
    "    return tracker"
   ]
  },
  {
   "cell_type": "code",
   "execution_count": 3,
   "metadata": {},
   "outputs": [
    {
     "name": "stdout",
     "output_type": "stream",
     "text": [
      "What tracker API would yoiu want to use?\n",
      "Enter 0 for Boosting: \n",
      "Enter 1 for MIL: \n",
      "Enter 2 for KCF: \n",
      "Enter 3 for TLD: \n",
      "Enter 4 for MEDIANFLOW: \n"
     ]
    },
    {
     "name": "stdin",
     "output_type": "stream",
     "text": [
      "Please select yoour tracker:  4\n"
     ]
    }
   ],
   "source": [
    "tracker = ask_for_tracker()"
   ]
  },
  {
   "cell_type": "code",
   "execution_count": 4,
   "metadata": {},
   "outputs": [
    {
     "data": {
      "text/plain": [
       "'TrackerMedianFlow'"
      ]
     },
     "execution_count": 4,
     "metadata": {},
     "output_type": "execute_result"
    }
   ],
   "source": [
    "str(tracker).split()[0][1:]"
   ]
  },
  {
   "cell_type": "code",
   "execution_count": 5,
   "metadata": {},
   "outputs": [
    {
     "data": {
      "text/plain": [
       "<TrackerMedianFlow 000002736BDA3230>"
      ]
     },
     "execution_count": 5,
     "metadata": {},
     "output_type": "execute_result"
    }
   ],
   "source": [
    "tracker"
   ]
  },
  {
   "cell_type": "code",
   "execution_count": 6,
   "metadata": {},
   "outputs": [
    {
     "name": "stdout",
     "output_type": "stream",
     "text": [
      "What tracker API would yoiu want to use?\n",
      "Enter 0 for Boosting: \n",
      "Enter 1 for MIL: \n",
      "Enter 2 for KCF: \n",
      "Enter 3 for TLD: \n",
      "Enter 4 for MEDIANFLOW: \n"
     ]
    },
    {
     "name": "stdin",
     "output_type": "stream",
     "text": [
      "Please select yoour tracker:  3\n"
     ]
    }
   ],
   "source": [
    "tracker = ask_for_tracker()\n",
    "tracker_name = str(tracker).split()[0][1:]\n",
    "\n",
    "cap = cv2.VideoCapture(0)\n",
    "ret,frame = cap.read()\n",
    "\n",
    "roi = cv2.selectROI(frame,False)\n",
    "\n",
    "ret = tracker.init(frame,roi)\n",
    "\n",
    "while True:\n",
    "    \n",
    "    ret,frame = cap.read()\n",
    "    \n",
    "    success,roi = tracker.update(frame)\n",
    "    \n",
    "    \n",
    "    (x,y,w,h) = tuple(map(int,roi))\n",
    "    \n",
    "    if success:\n",
    "        p1 = (x,y)\n",
    "        p2 = (x+w,y+h)\n",
    "        cv2.rectangle(frame,p1,p2,(0,255,0),3)\n",
    "    else:\n",
    "        cv2.putText(frame,\"Failure to detect tracking\",(100,200),cv2.FONT_HERSHEY_SIMPLEX,1,(0,0,255),3)\n",
    "        \n",
    "    cv2.putText(frame,tracker_name,(20,400),cv2.FONT_HERSHEY_SIMPLEX,1,(0,255.0),3)   \n",
    "    \n",
    "    cv2.imshow(tracker_name,frame)\n",
    "\n",
    "    if cv2.waitKey(1) & 0xFF == 27:\n",
    "            break\n",
    "        \n",
    "cap.release()\n",
    "cv2.destroyAllWindows()\n",
    "        "
   ]
  },
  {
   "cell_type": "code",
   "execution_count": null,
   "metadata": {},
   "outputs": [],
   "source": []
  }
 ],
 "metadata": {
  "kernelspec": {
   "display_name": "Python 3",
   "language": "python",
   "name": "python3"
  },
  "language_info": {
   "codemirror_mode": {
    "name": "ipython",
    "version": 3
   },
   "file_extension": ".py",
   "mimetype": "text/x-python",
   "name": "python",
   "nbconvert_exporter": "python",
   "pygments_lexer": "ipython3",
   "version": "3.6.6"
  }
 },
 "nbformat": 4,
 "nbformat_minor": 2
}
